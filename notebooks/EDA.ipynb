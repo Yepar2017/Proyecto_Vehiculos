{
 "cells": [
  {
   "cell_type": "code",
   "execution_count": null,
   "id": "94bcd1a9",
   "metadata": {
    "vscode": {
     "languageId": "plaintext"
    }
   },
   "outputs": [],
   "source": [
    "import pandas as pd\n",
    "\n",
    "# Cargar el archivo CSV (asegúrate que está en la carpeta raíz del proyecto)\n",
    "df = pd.read_csv('../vehicles_us.csv')\n",
    "\n",
    "# Mostrar las primeras filas\n",
    "df.head()\n"
   ]
  }
 ],
 "metadata": {
  "language_info": {
   "name": "python"
  }
 },
 "nbformat": 4,
 "nbformat_minor": 5
}
